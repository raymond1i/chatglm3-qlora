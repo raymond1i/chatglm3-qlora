{
 "cells": [
  {
   "cell_type": "markdown",
   "id": "832589ea-33e6-47ff-b9f0-301c55624ac9",
   "metadata": {
    "tags": []
   },
   "source": [
    "# 使用私有数据微调ChatGLM3 #"
   ]
  },
  {
   "cell_type": "code",
   "execution_count": 1,
   "id": "93382917-0a43-4f5d-86f4-4154f3871a0d",
   "metadata": {},
   "outputs": [
    {
     "name": "stdout",
     "output_type": "stream",
     "text": [
      "PyTorch built with:\n",
      "  - GCC 9.3\n",
      "  - C++ Version: 201703\n",
      "  - Intel(R) oneAPI Math Kernel Library Version 2022.2-Product Build 20220804 for Intel(R) 64 architecture applications\n",
      "  - Intel(R) MKL-DNN v3.3.6 (Git Hash 86e6af5974177e513fd3fee58425e1063e7f1361)\n",
      "  - OpenMP 201511 (a.k.a. OpenMP 4.5)\n",
      "  - LAPACK is enabled (usually provided by MKL)\n",
      "  - NNPACK is enabled\n",
      "  - CPU capability usage: AVX512\n",
      "  - CUDA Runtime 12.1\n",
      "  - NVCC architecture flags: -gencode;arch=compute_50,code=sm_50;-gencode;arch=compute_60,code=sm_60;-gencode;arch=compute_70,code=sm_70;-gencode;arch=compute_75,code=sm_75;-gencode;arch=compute_80,code=sm_80;-gencode;arch=compute_86,code=sm_86;-gencode;arch=compute_90,code=sm_90\n",
      "  - CuDNN 8.9.2\n",
      "  - Magma 2.6.1\n",
      "  - Build settings: BLAS_INFO=mkl, BUILD_TYPE=Release, CUDA_VERSION=12.1, CUDNN_VERSION=8.9.2, CXX_COMPILER=/opt/rh/devtoolset-9/root/usr/bin/c++, CXX_FLAGS= -D_GLIBCXX_USE_CXX11_ABI=0 -fabi-version=11 -fvisibility-inlines-hidden -DUSE_PTHREADPOOL -DNDEBUG -DUSE_KINETO -DLIBKINETO_NOROCTRACER -DUSE_FBGEMM -DUSE_QNNPACK -DUSE_PYTORCH_QNNPACK -DUSE_XNNPACK -DSYMBOLICATE_MOBILE_DEBUG_HANDLE -O2 -fPIC -Wall -Wextra -Werror=return-type -Werror=non-virtual-dtor -Werror=bool-operation -Wnarrowing -Wno-missing-field-initializers -Wno-type-limits -Wno-array-bounds -Wno-unknown-pragmas -Wno-unused-parameter -Wno-unused-function -Wno-unused-result -Wno-strict-overflow -Wno-strict-aliasing -Wno-stringop-overflow -Wsuggest-override -Wno-psabi -Wno-error=pedantic -Wno-error=old-style-cast -Wno-missing-braces -fdiagnostics-color=always -faligned-new -Wno-unused-but-set-variable -Wno-maybe-uninitialized -fno-math-errno -fno-trapping-math -Werror=format -Wno-stringop-overflow, LAPACK_INFO=mkl, PERF_WITH_AVX=1, PERF_WITH_AVX2=1, PERF_WITH_AVX512=1, TORCH_VERSION=2.3.1, USE_CUDA=ON, USE_CUDNN=ON, USE_CUSPARSELT=1, USE_EXCEPTION_PTR=1, USE_GFLAGS=OFF, USE_GLOG=OFF, USE_GLOO=ON, USE_MKL=ON, USE_MKLDNN=ON, USE_MPI=OFF, USE_NCCL=1, USE_NNPACK=ON, USE_OPENMP=ON, USE_ROCM=OFF, USE_ROCM_KERNEL_ASSERT=OFF, \n",
      " _CudaDeviceProperties(name='NVIDIA GeForce RTX 3090', major=8, minor=6, total_memory=24135MB, multi_processor_count=82)\n"
     ]
    }
   ],
   "source": [
    "import torch\n",
    "\n",
    "print(torch.__config__.show(), torch.cuda.get_device_properties(0))"
   ]
  },
  {
   "cell_type": "code",
   "execution_count": 9,
   "id": "86c9733a-fdc8-4ef3-ab66-bd8a990f2bcf",
   "metadata": {},
   "outputs": [],
   "source": [
    "# 定义全局变量和参数\n",
    "model_name_or_path = 'THUDM/chatglm3-6b'\n",
    "train_data_path = 'data/zhouyi_dataset_20250618_214633.csv'\n",
    "eval_data_path = None\n",
    "seed = 8\n",
    "max_input_length = 512\n",
    "max_output_length = 1536\n",
    "lora_rank = 16\n",
    "lora_alpha = 32\n",
    "lora_dropout = 0.05\n",
    "prompt_text = ''"
   ]
  },
  {
   "cell_type": "markdown",
   "id": "eadc356b-bb55-412b-81bc-67d7aed5e74f",
   "metadata": {
    "tags": []
   },
   "source": [
    "## 数据处理"
   ]
  },
  {
   "cell_type": "code",
   "execution_count": 10,
   "id": "bc8e84a0-5a40-46ec-a682-3855b2e6e574",
   "metadata": {},
   "outputs": [
    {
     "name": "stdout",
     "output_type": "stream",
     "text": [
      "DatasetDict({\n",
      "    train: Dataset({\n",
      "        features: ['content', 'summary'],\n",
      "        num_rows: 160\n",
      "    })\n",
      "})\n"
     ]
    }
   ],
   "source": [
    "from datasets import load_dataset\n",
    "\n",
    "dataset = load_dataset(\"csv\", data_files=train_data_path)\n",
    "print(dataset) #dataset是字典\n"
   ]
  },
  {
   "cell_type": "code",
   "execution_count": 11,
   "id": "af151a80-18ca-4b06-9d4f-2543c41b720d",
   "metadata": {},
   "outputs": [
    {
     "data": {
      "text/plain": [
       "{'content': Value(dtype='string', id=None),\n",
       " 'summary': Value(dtype='string', id=None)}"
      ]
     },
     "execution_count": 11,
     "metadata": {},
     "output_type": "execute_result"
    }
   ],
   "source": [
    "dataset['train'].features # features 是数据集特征描述，包含每个列的名称和类型"
   ]
  },
  {
   "cell_type": "code",
   "execution_count": 12,
   "id": "b145b1fd-116e-41e6-870b-71d69bdec9ed",
   "metadata": {
    "tags": []
   },
   "outputs": [
    {
     "data": {
      "text/plain": [
       "['蒙卦代表什么？',\n",
       " '周易中的蒙卦含义是什么？',\n",
       " '请解释一下蒙卦。',\n",
       " '蒙卦在周易中是什么象征？',\n",
       " '周易蒙卦的深层含义是什么？',\n",
       " '蒙卦和教育启蒙有什么联系？',\n",
       " '周易的蒙卦讲述了什么？',\n",
       " '蒙卦是怎样的一个卦象？',\n",
       " '蒙卦在周易中怎样表达教育的概念？',\n",
       " '蒙卦的基本意义是什么？',\n",
       " '周易中蒙卦的解释是什么？',\n",
       " '蒙卦在周易中代表了哪些方面？',\n",
       " '蒙卦涉及哪些哲学思想？',\n",
       " '周易中蒙卦的象征意义是什么？',\n",
       " '蒙卦的主要讲述内容是什么？',\n",
       " '周易蒙卦的核心思想是什么？',\n",
       " '蒙卦和启蒙教育之间有何联系？',\n",
       " '在周易中，蒙卦象征着什么？',\n",
       " '请描述蒙卦的含义。',\n",
       " '蒙卦在周易哲学中扮演什么角色？',\n",
       " '屯卦代表什么？',\n",
       " '周易中的屯卦含义是什么？',\n",
       " '请解释一下屯卦。',\n",
       " '屯卦在周易中是什么象征？',\n",
       " '周易屯卦的深层含义是什么？',\n",
       " '屯卦和教育启蒙有什么联系？',\n",
       " '周易的屯卦讲述了什么？',\n",
       " '屯卦是怎样的一个卦象？',\n",
       " '屯卦在周易中怎样表达教育的概念？',\n",
       " '屯卦的基本意义是什么？',\n",
       " '周易中屯卦的解释是什么？',\n",
       " '屯卦在周易中代表了哪些方面？',\n",
       " '屯卦涉及哪些哲学思想？',\n",
       " '周易中屯卦的象征意义是什么？',\n",
       " '屯卦的主要讲述内容是什么？',\n",
       " '周易屯卦的核心思想是什么？',\n",
       " '屯卦和启蒙教育之间有何联系？',\n",
       " '在周易中，屯卦象征着什么？',\n",
       " '请描述屯卦的含义。',\n",
       " '屯卦在周易哲学中扮演什么角色？',\n",
       " '需卦代表什么？',\n",
       " '周易中的需卦含义是什么？',\n",
       " '请解释一下需卦。',\n",
       " '需卦在周易中是什么象征？',\n",
       " '周易需卦的深层含义是什么？',\n",
       " '需卦和教育启蒙有什么联系？',\n",
       " '周易的需卦讲述了什么？',\n",
       " '需卦是怎样的一个卦象？',\n",
       " '需卦在周易中怎样表达教育的概念？',\n",
       " '需卦的基本意义是什么？',\n",
       " '周易中需卦的解释是什么？',\n",
       " '需卦在周易中代表了哪些方面？',\n",
       " '需卦涉及哪些哲学思想？',\n",
       " '周易中需卦的象征意义是什么？',\n",
       " '需卦的主要讲述内容是什么？',\n",
       " '周易需卦的核心思想是什么？',\n",
       " '需卦和启蒙教育之间有何联系？',\n",
       " '在周易中，需卦象征着什么？',\n",
       " '请描述需卦的含义。',\n",
       " '需卦在周易哲学中扮演什么角色？',\n",
       " '讼卦代表什么？',\n",
       " '周易中的讼卦含义是什么？',\n",
       " '请解释一下讼卦。',\n",
       " '讼卦在周易中是什么象征？',\n",
       " '周易讼卦的深层含义是什么？',\n",
       " '讼卦和教育启蒙有什么联系？',\n",
       " '周易的讼卦讲述了什么？',\n",
       " '讼卦是怎样的一个卦象？',\n",
       " '讼卦在周易中怎样表达教育的概念？',\n",
       " '讼卦的基本意义是什么？',\n",
       " '周易中讼卦的解释是什么？',\n",
       " '讼卦在周易中代表了哪些方面？',\n",
       " '讼卦涉及哪些哲学思想？',\n",
       " '周易中讼卦的象征意义是什么？',\n",
       " '讼卦的主要讲述内容是什么？',\n",
       " '周易讼卦的核心思想是什么？',\n",
       " '讼卦和启蒙教育之间有何联系？',\n",
       " '在周易中，讼卦象征着什么？',\n",
       " '请描述讼卦的含义。',\n",
       " '讼卦在周易哲学中扮演什么角色？',\n",
       " '师卦代表什么？',\n",
       " '周易中的师卦含义是什么？',\n",
       " '请解释一下师卦。',\n",
       " '师卦在周易中是什么象征？',\n",
       " '周易师卦的深层含义是什么？',\n",
       " '师卦和教育启蒙有什么联系？',\n",
       " '周易的师卦讲述了什么？',\n",
       " '师卦是怎样的一个卦象？',\n",
       " '师卦在周易中怎样表达教育的概念？',\n",
       " '师卦的基本意义是什么？',\n",
       " '周易中师卦的解释是什么？',\n",
       " '师卦在周易中代表了哪些方面？',\n",
       " '师卦涉及哪些哲学思想？',\n",
       " '周易中师卦的象征意义是什么？',\n",
       " '师卦的主要讲述内容是什么？',\n",
       " '周易师卦的核心思想是什么？',\n",
       " '师卦和启蒙教育之间有何联系？',\n",
       " '在周易中，师卦象征着什么？',\n",
       " '请描述师卦的含义。',\n",
       " '师卦在周易哲学中扮演什么角色？',\n",
       " '比卦代表什么？',\n",
       " '周易中的比卦含义是什么？',\n",
       " '请解释一下比卦。',\n",
       " '比卦在周易中是什么象征？',\n",
       " '周易比卦的深层含义是什么？',\n",
       " '比卦和教育启蒙有什么联系？',\n",
       " '周易的比卦讲述了什么？',\n",
       " '比卦是怎样的一个卦象？',\n",
       " '比卦在周易中怎样表达教育的概念？',\n",
       " '比卦的基本意义是什么？',\n",
       " '周易中比卦的解释是什么？',\n",
       " '比卦在周易中代表了哪些方面？',\n",
       " '比卦涉及哪些哲学思想？',\n",
       " '周易中比卦的象征意义是什么？',\n",
       " '比卦的主要讲述内容是什么？',\n",
       " '周易比卦的核心思想是什么？',\n",
       " '比卦和启蒙教育之间有何联系？',\n",
       " '在周易中，比卦象征着什么？',\n",
       " '请描述比卦的含义。',\n",
       " '比卦在周易哲学中扮演什么角色？',\n",
       " '坤卦代表什么？',\n",
       " '周易中的坤卦含义是什么？',\n",
       " '请解释一下坤卦。',\n",
       " '坤卦在周易中是什么象征？',\n",
       " '周易坤卦的深层含义是什么？',\n",
       " '坤卦和教育启蒙有什么联系？',\n",
       " '周易的坤卦讲述了什么？',\n",
       " '坤卦是怎样的一个卦象？',\n",
       " '坤卦在周易中怎样表达教育的概念？',\n",
       " '坤卦的基本意义是什么？',\n",
       " '周易中坤卦的解释是什么？',\n",
       " '坤卦在周易中代表了哪些方面？',\n",
       " '坤卦涉及哪些哲学思想？',\n",
       " '周易中坤卦的象征意义是什么？',\n",
       " '坤卦的主要讲述内容是什么？',\n",
       " '周易坤卦的核心思想是什么？',\n",
       " '坤卦和启蒙教育之间有何联系？',\n",
       " '在周易中，坤卦象征着什么？',\n",
       " '请描述坤卦的含义。',\n",
       " '坤卦在周易哲学中扮演什么角色？',\n",
       " '乾卦代表什么？',\n",
       " '周易中的乾卦含义是什么？',\n",
       " '请解释一下乾卦。',\n",
       " '乾卦在周易中是什么象征？',\n",
       " '周易乾卦的深层含义是什么？',\n",
       " '乾卦和教育启蒙有什么联系？',\n",
       " '周易的乾卦讲述了什么？',\n",
       " '乾卦是怎样的一个卦象？',\n",
       " '乾卦在周易中怎样表达教育的概念？',\n",
       " '乾卦的基本意义是什么？',\n",
       " '周易中乾卦的解释是什么？',\n",
       " '乾卦在周易中代表了哪些方面？',\n",
       " '乾卦涉及哪些哲学思想？',\n",
       " '周易中乾卦的象征意义是什么？',\n",
       " '乾卦的主要讲述内容是什么？',\n",
       " '周易乾卦的核心思想是什么？',\n",
       " '乾卦和启蒙教育之间有何联系？',\n",
       " '在周易中，乾卦象征着什么？',\n",
       " '请描述乾卦的含义。',\n",
       " '乾卦在周易哲学中扮演什么角色？']"
      ]
     },
     "execution_count": 12,
     "metadata": {},
     "output_type": "execute_result"
    }
   ],
   "source": [
    "dataset['train']['content'] # content是键"
   ]
  },
  {
   "cell_type": "code",
   "execution_count": 13,
   "id": "3e4a37f2-286e-409d-b410-9cce4b83ab0c",
   "metadata": {},
   "outputs": [],
   "source": [
    "from datasets import ClassLabel, Sequence\n",
    "import random\n",
    "import pandas as pd\n",
    "from IPython.display import display, HTML\n",
    "\n",
    "def show_random_elements(dataset, num_examples=10):\n",
    "    assert num_examples <= len(dataset), \"Can't pick more elements than there are in the dateset.\"\n",
    "    \n",
    "    # 生成一组随机数 picks 用作 dataset索引\n",
    "    picks = []\n",
    "    for _ in range(num_examples):\n",
    "        pick = random.randint(0, len(dataset)-1)\n",
    "        while pick in picks:\n",
    "            pick = random.randint(0, len(dataset)-1)\n",
    "        picks.append(pick)\n",
    "    \n",
    "    # 生成 df表格\n",
    "    df = pd.DataFrame(dataset[picks]) # 返回picks列表的行索引写到表格df\n",
    "    for column,typ in dataset.features.items():# 固定格式目的是转换数据集中的分类标签和分类标签序列\n",
    "        if isinstance(typ, ClassLabel):\n",
    "            df[column] = df[column].transform(lambda i: typ.names[i])\n",
    "        elif isinstance(typ, Sequence) and isinstance(typ.feature, ClassLabel):\n",
    "            df[column] = df[column].transform(lambda x: [typ.feature.names[i] for i in x])\n",
    "    display(HTML(df.to_html()))\n",
    "        \n",
    "    "
   ]
  },
  {
   "cell_type": "code",
   "execution_count": 14,
   "id": "daa69a45-d863-454f-a667-cb35408764a6",
   "metadata": {},
   "outputs": [
    {
     "data": {
      "text/html": [
       "<table border=\"1\" class=\"dataframe\">\n",
       "  <thead>\n",
       "    <tr style=\"text-align: right;\">\n",
       "      <th></th>\n",
       "      <th>content</th>\n",
       "      <th>summary</th>\n",
       "    </tr>\n",
       "  </thead>\n",
       "  <tbody>\n",
       "    <tr>\n",
       "      <th>0</th>\n",
       "      <td>蒙卦的基本意义是什么？</td>\n",
       "      <td>蒙卦在周易中象征着启蒙与迷惑。此卦由下卦坎（水）和上卦艮（山）组成，卦象为山下有泉，象征泉水喷涌而出，但仍有险阻。这一卦象寓意着蒙昧和回还往复，表明智慧未开，蒙昧闭塞，犹豫不决，缺乏果断。在卦辞中提到‘匪我求童蒙，童蒙求我’，表明不是主动去寻求启蒙，而是蒙昧的人主动寻求教化。初筮告，再三渎，渎则不告，意味着初次占筮可以得到启示，但若轻慢不敬地反复占问，则不会得到启示。蒙卦的核心哲学是强调启蒙的重要性，君子应以果敢坚毅的行动来培养自身的品德。在事业上，蒙卦暗示开始时可能混乱无序，但通过勇敢坚毅的行动和接受严格教育，可以扭转局面。在经商和求名方面，蒙卦建议小心谨慎，不得急功近利，应树立高尚的商业道德和接受良好的基础教育。在婚恋方面，蒙卦提醒注意考察对方品德，夫妻需相互宽容、理解。总之，蒙卦教导人们在迷惘困顿中寻求教化，通过果敢坚毅的行动和接受教育，最终达到启蒙和通达的状态。</td>\n",
       "    </tr>\n",
       "    <tr>\n",
       "      <th>1</th>\n",
       "      <td>讼卦和教育启蒙有什么联系？</td>\n",
       "      <td>讼卦在周易中代表争讼、诉讼的情境。此卦由上卦乾（天）和下卦坎（水）组成，象征天水相违，流向相背，事理乖舛，从而引发争讼。卦辞指出，虽然有利可图，但需警惕戒惧，中期吉利，但最终可能转为凶险。此卦有利于遇见有德行的大人物，但不利于涉越大河。象辞解释为君子应从卦象中汲取教训，在做事谋事之初就要谨慎小心。《断易天机》认为此卦为离宫游魂卦，上乾刚强，下坎险陷，刚险相争必然导致争讼，多有不吉。邵雍解为天高水深，达远不亲，应慎谋退守，敬畏无凶。傅佩荣认为此卦表示时运功名受阻，财运开始谨慎终可获利，家宅宜求淑女，身体需预防胜于治疗。传统解卦指出此卦为异卦相叠，乾为刚健，坎为险陷，刚与险对立，必然产生争讼。运势上事与愿违，宜防陷阱；事业上起初顺利，但继而受挫，需警惕谨慎，避免固执己见，退而让人以求化解；经商上和气生财，吃亏是福，应坚持公正公平互利原则；求名上不利，应坚守纯正，隐忍自励；婚恋上虽不尽人意，但双方理解可处，应以温和方式处理生活；决策上应避免争强好胜，知足适可而止，接受教训，引以为戒。</td>\n",
       "    </tr>\n",
       "    <tr>\n",
       "      <th>2</th>\n",
       "      <td>需卦和启蒙教育之间有何联系？</td>\n",
       "      <td>需卦在周易中象征着等待与蓄势。此卦由下卦乾（天）和上卦坎（水）组成，代表云升于天，等待雨水降临的意象。卦辞‘有孚，光亨，贞吉。利涉大川’表明，坚守诚信，亨通顺利，问卦必吉，且利于渡过大河。象传‘云上于天，需；君子以饮食宴乐’说明，君子应如云在天，耐心等待，并在等待中保持宴饮安乐的生活态度。《断易天机》指出需卦为坤宫游魂卦，意味着等待时机成熟，虽前有险阻，但耐心涉过大川则利。邵雍认为需卦象征坎陷当前，应等待时机，急进则凶。傅佩荣则强调时机未成熟时需耐心等待，适用于时机、财运、身体等方面。传统解卦认为需卦下乾上坎，刚逢险阻，宜稳健等待，不可冒进。大象解法以云在天上未雨象喻等待时机，运势上强调待时而行，事业、经商、求名、婚恋等方面均需耐心等待，积累实力，待时机成熟则可成功。决策上建议积蓄力量，谨慎行动，坦然面对困难，时机成熟后则一帆风顺。</td>\n",
       "    </tr>\n",
       "    <tr>\n",
       "      <th>3</th>\n",
       "      <td>需卦涉及哪些哲学思想？</td>\n",
       "      <td>需卦在周易中象征着等待与蓄势。此卦由下卦乾（天）和上卦坎（水）组成，代表云升于天，等待雨水降临的意象。卦辞‘有孚，光亨，贞吉。利涉大川’表明，坚守诚信，亨通顺利，问卦必吉，且利于渡过大河。象传‘云上于天，需；君子以饮食宴乐’说明，君子应如云在天，耐心等待，并在等待中保持宴饮安乐的生活态度。《断易天机》指出需卦为坤宫游魂卦，意味着等待时机成熟，虽前有险阻，但耐心涉过大川则利。邵雍认为需卦象征坎陷当前，应等待时机，急进则凶。傅佩荣则强调时机未成熟时需耐心等待，适用于时机、财运、身体等方面。传统解卦认为需卦下乾上坎，刚逢险阻，宜稳健等待，不可冒进。大象解法以云在天上未雨象喻等待时机，运势上强调待时而行，事业、经商、求名、婚恋等方面均需耐心等待，积累实力，待时机成熟则可成功。决策上建议积蓄力量，谨慎行动，坦然面对困难，时机成熟后则一帆风顺。</td>\n",
       "    </tr>\n",
       "    <tr>\n",
       "      <th>4</th>\n",
       "      <td>蒙卦涉及哪些哲学思想？</td>\n",
       "      <td>蒙卦在周易中象征着启蒙与迷惑。此卦由下卦坎（水）和上卦艮（山）组成，卦象为山下有泉，象征泉水喷涌而出，但仍有险阻。这一卦象寓意着蒙昧和回还往复，表明智慧未开，蒙昧闭塞，犹豫不决，缺乏果断。在卦辞中提到‘匪我求童蒙，童蒙求我’，表明不是主动去寻求启蒙，而是蒙昧的人主动寻求教化。初筮告，再三渎，渎则不告，意味着初次占筮可以得到启示，但若轻慢不敬地反复占问，则不会得到启示。蒙卦的核心哲学是强调启蒙的重要性，君子应以果敢坚毅的行动来培养自身的品德。在事业上，蒙卦暗示开始时可能混乱无序，但通过勇敢坚毅的行动和接受严格教育，可以扭转局面。在经商和求名方面，蒙卦建议小心谨慎，不得急功近利，应树立高尚的商业道德和接受良好的基础教育。在婚恋方面，蒙卦提醒注意考察对方品德，夫妻需相互宽容、理解。总之，蒙卦教导人们在迷惘困顿中寻求教化，通过果敢坚毅的行动和接受教育，最终达到启蒙和通达的状态。</td>\n",
       "    </tr>\n",
       "  </tbody>\n",
       "</table>"
      ],
      "text/plain": [
       "<IPython.core.display.HTML object>"
      ]
     },
     "metadata": {},
     "output_type": "display_data"
    }
   ],
   "source": [
    "show_random_elements(dataset[\"train\"],num_examples=5)"
   ]
  },
  {
   "cell_type": "code",
   "execution_count": 15,
   "id": "5868f2ac-5998-4d25-8ee1-69eed52f2aa5",
   "metadata": {
    "tags": []
   },
   "outputs": [
    {
     "name": "stderr",
     "output_type": "stream",
     "text": [
      "/root/miniconda3/envs/chatglmdemo/lib/python3.10/site-packages/huggingface_hub/file_download.py:943: FutureWarning: `resume_download` is deprecated and will be removed in version 1.0.0. Downloads always resume when possible. If you want to force a new download, use `force_download=True`.\n",
      "  warnings.warn(\n",
      "A new version of the following files was downloaded from https://huggingface.co/THUDM/chatglm3-6b:\n",
      "- tokenization_chatglm.py\n",
      ". Make sure to double-check they do not contain any added malicious code. To avoid downloading new versions of the code file, you can pin a revision.\n",
      "Setting eos_token is not supported, use the default one.\n",
      "Setting pad_token is not supported, use the default one.\n",
      "Setting unk_token is not supported, use the default one.\n"
     ]
    }
   ],
   "source": [
    "# import os\n",
    "# os.environ['HF_ENDPOINT'] = 'https://hf-mirror.com'\n",
    "\n",
    "# os.environ['HF_HOME'] = '/root/autodl-tmp/cache/'\n",
    "\n",
    "from transformers import AutoTokenizer\n",
    "\n",
    "tokenizer = AutoTokenizer.from_pretrained(model_name_or_path, trust_remote_code=True)"
   ]
  },
  {
   "cell_type": "code",
   "execution_count": null,
   "id": "f183ca10-12d4-49a4-a4b6-f6a28eab3e55",
   "metadata": {},
   "outputs": [],
   "source": [
    "def tokenize_func(example, tokenizer, ignore_label_id=-100):\n",
    "    \"\"\"\n",
    "    对单个数据样本进行tokenize处理。\n",
    "\n",
    "    参数:\n",
    "    example (dict): 包含'content'和'summary'键的字典，代表训练数据的一个样本。\n",
    "    tokenizer (transformers.PreTrainedTokenizer): 用于tokenize文本的tokenizer。\n",
    "    ignore_label_id (int, optional): 在label中用于填充的忽略ID，默认为-100。\n",
    "\n",
    "    返回:\n",
    "    dict: 包含'tokenized_input_ids'和'labels'的字典，用于模型训练。\n",
    "    \"\"\"\n",
    "    # 构建问题文本\n",
    "    question = prompt_text + example['content']\n",
    "    if example.get('input',None) and example['input'].strip():\n",
    "        question += f'\\n{example['input']}'\n",
    "        \n",
    "    # 构建答案文本\n",
    "    answer = example['summary']\n",
    "    \n",
    "    # 对问题和答案文本进行tokenize处理\n",
    "    q_ids = tokenizer.encode(text=question, add_special_tokens=False)\n",
    "    a_ids = tokenizer.encode(text=answer, add_special_tokens=False)\n",
    "    \n",
    "    # 如果tokenize后的长度超过最大长度限制，则进行截断\n",
    "    if len(q_ids) > max_input_length - 2:\n",
    "        q_ids = q_ids[:max_input_length - 2] # 保留空间给gmask和bos标记\n",
    "    if len(a_ids) > max_output_length - 1:\n",
    "        a_ids = a_ids[:max_output_length - 1] # 保留空间给eos标记\n",
    "        \n",
    "    # 构建模型的输入格式\n",
    "    input_ids = tokenizer.build_inputs_with_special_tokens(q_ids, a_ids)\n",
    "    question_length = len(q_ids) + 2\n",
    "    \n",
    "    # 构建标签，对于问题部分的输入使用ignore_label_id进行填充\n",
    "    labels = [ignore_label_id] * question_length + input_ids[question_length:]\n",
    "    \n",
    "    return {'input_ids':input_ids,'labels':labels}"
   ]
  },
  {
   "cell_type": "code",
   "execution_count": null,
   "id": "e43640b6-0071-4426-a61e-83400242d85b",
   "metadata": {},
   "outputs": [],
   "source": [
    "column_names = dataset['train'].column_names\n",
    "tokenized_dataset = dataset['train'].map(\n",
    "    lambda example:tokenize_func(example, tokenizer),\n",
    "    batched=False,\n",
    "    remove_column=column_names\n",
    ")"
   ]
  },
  {
   "cell_type": "code",
   "execution_count": null,
   "id": "7ea8bd31-79c8-40db-b217-d13abecc2c07",
   "metadata": {},
   "outputs": [],
   "source": [
    "tokenized_dataset = tokenized_dateset.shuffle(seed=seed)\n",
    "tokenized_dataset = tokenized_dataset.flatten_indices()"
   ]
  },
  {
   "cell_type": "code",
   "execution_count": null,
   "id": "0957484e-c436-4f6d-b97e-d15d1a9aa281",
   "metadata": {},
   "outputs": [],
   "source": []
  }
 ],
 "metadata": {
  "kernelspec": {
   "display_name": "chatglmdemo",
   "language": "python",
   "name": "chatglmdemo"
  },
  "language_info": {
   "codemirror_mode": {
    "name": "ipython",
    "version": 3
   },
   "file_extension": ".py",
   "mimetype": "text/x-python",
   "name": "python",
   "nbconvert_exporter": "python",
   "pygments_lexer": "ipython3",
   "version": "3.10.18"
  }
 },
 "nbformat": 4,
 "nbformat_minor": 5
}
