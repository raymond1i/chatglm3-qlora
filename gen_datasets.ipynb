{
 "cells": [
  {
   "cell_type": "markdown",
   "id": "df9bbde6-ca9d-4300-beca-0fc780da3384",
   "metadata": {},
   "source": [
    "## 使用Langchain构造训练数据 ##"
   ]
  },
  {
   "cell_type": "code",
   "execution_count": null,
   "id": "f5698f79-af1a-479f-bd83-dd0b45fbf681",
   "metadata": {},
   "outputs": [],
   "source": []
  },
  {
   "cell_type": "code",
   "execution_count": 1,
   "id": "f15a1d3f-f38c-41c6-8302-d77c85b246a4",
   "metadata": {},
   "outputs": [],
   "source": [
    "from zhipuai import ZhipuAI\n",
    "# from langchain.chat_models import ChatOpenAI\n",
    "# from langchain.prompts.chat import (\n",
    "#     ChatPromptTemplate,\n",
    "#     HumanMessagePromptTemplate,\n",
    "#     SystemMessagePromptTemplate,\n",
    "# )\n"
   ]
  },
  {
   "cell_type": "code",
   "execution_count": 10,
   "id": "06319a6b-d805-4521-b6f7-bd547ee49b62",
   "metadata": {},
   "outputs": [],
   "source": [
    "client = ZhipuAI(api_key=\"82e80987ebfd4968a60cf66ec49c9659.QXV6UlcMAVIBUR3B\")\n",
    "    \"\"\"\n",
    "    使用zhipu调用处理单个数据样例。\n",
    "\n",
    "    :param raw_content: 原始数据样例。\n",
    "    :return: GLM-4-Flash-250414模型生成的内容。\n",
    "    \"\"\"\n",
    "\n",
    "def gen_data(raw_content):\n",
    "    system_messages = {\n",
    "        \"role\":\"user\",\n",
    "        \"content\" : \"\"\"\n",
    "        你是中国古典哲学大师，尤其擅长周易的哲学解读。\n",
    "        接下来，你将收到的是关于周易卦象的解释，你需要整理润色，并生成用于大模型训练的内容和格式。\n",
    "        输入示例：\n",
    "        师卦，此卦是异卦相叠，下卦为坎，上卦为坤。“师”指军队。坎为水、为险；坤为地、为顺，喻寓兵于农。兵凶战危，用兵乃圣人不得已而为之，但它可以顺利无阻碍地解决矛盾，因为顺乎形势，师出有名，故能化凶为吉。占得此卦，对于军事上率师出征非常有利，必无灾祸。师卦是天马出群之卦，以寡伏众之象。\n",
    "        师卦位于讼卦之后，《序卦》之中这样解释道：“讼必有众起，故受之以师。师者，众也。”争讼的人越来越多，以致形成了军队。\n",
    "        期待结果：\n",
    "        content:\"师卦\"\n",
    "        summary:\"在周易中，师卦是一个极具深意的卦象，它由两个异卦相叠组成：下卦坎（水）和上卦坤（地）。这一卦象代表“师”，即军队，寓意着兵力和农力的结合。在这里，坎卦象征着水和险难，而坤卦象征着地和顺从，暗示着通过将军事力量安置于民间，可以在必要时顺利调动。\n",
    "        师卦的核心哲学是：虽然兵力代表着危险和战争，但其使用应当是圣人不得已而为之的最后手段。在正确的情况下，军事力量可以顺应形势，将危险转化为吉祥。因此，在军事策略上，此卦象征着出征将会顺利，无灾祸。\n",
    "        师卦紧随讼卦（争讼卦），在《序卦》中解释为“讼必有众起，故受之以师”。这意味着争端激化至众多人群的参与，形成了类似军队的集体力量。\"\n",
    "        返回格式要求：\n",
    "        content:\"{卦名}\"\n",
    "        summary:\"{内容}\"\n",
    "        只返回格式要求的结果\n",
    "        \"\"\"\n",
    "    }\n",
    "    \n",
    "    human_messages = {\n",
    "        \"role\":\"user\",\n",
    "        \"content\":raw_content\n",
    "    }\n",
    "    \n",
    "    messages = [system_messages, human_messages]\n",
    "    ai_message = client.chat.completions.create(messages=messages,\n",
    "                                               model=\"GLM-4-Flash-250414\",\n",
    "                                                temperature=1,\n",
    "                                                max_tokens=4095)\n",
    "    \n",
    "    return ai_message.choices[0].message.content\n",
    "        "
   ]
  },
  {
   "cell_type": "code",
   "execution_count": 11,
   "id": "0dab8b24-2282-48c3-ad78-16331f36d491",
   "metadata": {},
   "outputs": [],
   "source": [
    "raw_content_data = \"\"\"蒙卦原文\n",
    "蒙。亨。匪我求童蒙，童蒙求我。初筮告，再三渎，渎则不告。利贞。\n",
    "象曰：山下出泉，蒙。君子以果行育德。\n",
    "白话文解释\n",
    "蒙卦：通泰。不是我有求于幼稚愚昧的人，而是幼稚愚昧的人有求于我。第一次占筮，神灵告诉了他。轻慢不敬的再三占筮，轻慢不敬的占筮，神灵就不会告诉他。但还是吉利的卜问。\n",
    "《象辞》说：上卦为艮，象征山；下卦为坎，象征泉。山下有泉，泉水喷涌而出，这是蒙卦的卦象。君子观此卦象，取法于一往无前的山泉，从而以果敢坚毅的行动来培养自身的品德。\n",
    "《断易天机》解\n",
    "蒙卦艮上坎下，为离宫四世卦。蒙即蒙昧，主回还往复，疑惑不前，多忧愁过失，乃是凶卦。\n",
    "北宋易学家邵雍解\n",
    "智慧未开，蒙昧闭塞；犹豫不决，缺乏果断。\n",
    "得此卦者，智慧犹如童蒙，不辨是非，迷失方向；若能顺贤师良友之教，启其聪明则亨通。\n",
    "台湾国学大儒傅佩荣解\n",
    "时运：蓄积德行，出而用世。\n",
    "财运：矿山生意，果决则吉。\n",
    "家宅：君子居吉；婚姻之始。\n",
    "身体：驱去邪热，可保平安。\n",
    "传统解卦\n",
    "这个卦是异卦（下坎上艮）相叠，艮是山的形象，喻止；坎是水的形象，喻险。卦形为山下有险，仍不停止前进，是为蒙昧，故称蒙卦。但因把握时机，行动切合时宜，因此，具有启蒙和通达的卦象。\n",
    "大象：蒙者，昏而无所见也，故宜「启蒙」。\n",
    "运势：初时迷惑不知方向，须忍耐待机而动，凡事多听取别人意见，则运可通。\n",
    "事业：事业开始，混乱无序，危机四伏，以勇敢坚毅的行动可以扭转局面。然而必须接受严格教育，培养这种奋发图强的精神。务必脚踏实地，最忌好高骛远，否则会陷入孤立无援的境地。\n",
    "经商：务必小心谨慎，不得急功近利，尤其应树立高尚的商业道德，以良好的信誉提高竞争力而取胜。\n",
    "求名：必须接受良好的基础教育，陶冶情操。且动机纯正，可以达到目的。\n",
    "婚恋：注意考察对方品德，不可以金钱为诱铒。夫妻需相互宽容、理解。\n",
    "决策：有时会陷入迷惘困顿的境地，加上胆小、不果断，往往误事。如能接受长辈的教诲，甚至严酷的考验，抛弃疑惧的心理，等待适当时机，必然一帆风顺。\n",
    "\"\"\""
   ]
  },
  {
   "cell_type": "code",
   "execution_count": 27,
   "id": "1bbecb2c-1630-4827-8d90-56f24bcf99c3",
   "metadata": {},
   "outputs": [
    {
     "name": "stdout",
     "output_type": "stream",
     "text": [
      "content:\"蒙卦\"\n",
      "summary:\"蒙卦在周易中代表启蒙与蒙昧。此卦由下坎（水）上艮（山）组成，象征山下有泉，泉水喷涌而出，喻示蒙昧之中蕴含着通达的可能。卦辞指出，亨通在于不是强迫者先行，而是求学者主动寻求知识，强调教育的主动性和重要性。初筮告知，再三轻慢则不再告知，提醒学习者应有的敬意。象辞取山泉意象，鼓励君子果敢行动以培育德行。邵雍认为此卦代表智慧未开，需顺师友之教；傅佩荣则指出蓄德行、顺时用世之机。传统解卦认为此卦象征山下有险仍前行，代表蒙昧，但把握时机可获通达。运势上需忍耐待机，事业与经商需脚踏实地，求名求学需基础教育，婚恋需考察品德。总之，蒙卦强调在蒙昧中寻求知识，顺应时机，通过教育和自我修养达到亨通。\"\n"
     ]
    }
   ],
   "source": [
    "# 示例调用\n",
    "res = gen_data(raw_content_data)\n",
    "print(res)"
   ]
  },
  {
   "cell_type": "code",
   "execution_count": 28,
   "id": "94605713-277c-48a9-ba1c-a98c5d146f9d",
   "metadata": {},
   "outputs": [],
   "source": [
    "def dataset_parser(ai_message_content):\n",
    "    \"\"\"\n",
    "    解析由gen_data函数生成的ai_message.choices[0].message.content，提取content和summary。\n",
    "\n",
    "    :param ai_message_content: gen_data函数返回的文本。\n",
    "    :return: 提取的content和summary。\n",
    "    \"\"\"\n",
    "    # 分割字符串来找到content和summary的位置\n",
    "    content_start = ai_message_content.find('content:\"') + len('content:\"')\n",
    "    content_end = ai_message_content.find('\"\\nsummary:')\n",
    "    summary_start = ai_message_content.find('summary:\"') + len('summary:\"')\n",
    "    summary_end = ai_message_content.rfind('\"')\n",
    "\n",
    "    # 提取并存储content和summary\n",
    "    content = ai_message_content[content_start:content_end].strip()\n",
    "    summary = ai_message_content[summary_start:summary_end].strip()\n",
    "\n",
    "    return content, summary"
   ]
  },
  {
   "cell_type": "code",
   "execution_count": 29,
   "id": "920ac145-cdd0-411c-afed-3f75997df066",
   "metadata": {},
   "outputs": [
    {
     "name": "stdout",
     "output_type": "stream",
     "text": [
      "Content: 蒙卦\n",
      "Summary: 蒙卦在周易中代表启蒙与蒙昧。此卦由下坎（水）上艮（山）组成，象征山下有泉，泉水喷涌而出，喻示蒙昧之中蕴含着通达的可能。卦辞指出，亨通在于不是强迫者先行，而是求学者主动寻求知识，强调教育的主动性和重要性。初筮告知，再三轻慢则不再告知，提醒学习者应有的敬意。象辞取山泉意象，鼓励君子果敢行动以培育德行。邵雍认为此卦代表智慧未开，需顺师友之教；傅佩荣则指出蓄德行、顺时用世之机。传统解卦认为此卦象征山下有险仍前行，代表蒙昧，但把握时机可获通达。运势上需忍耐待机，事业与经商需脚踏实地，求名求学需基础教育，婚恋需考察品德。总之，蒙卦强调在蒙昧中寻求知识，顺应时机，通过教育和自我修养达到亨通。\n"
     ]
    }
   ],
   "source": [
    "# 示例调用\n",
    "content, summary = dataset_parser(res)\n",
    "print(\"Content:\", content)\n",
    "print(\"Summary:\", summary)"
   ]
  },
  {
   "cell_type": "code",
   "execution_count": 41,
   "id": "62f512d0-66b0-4ab6-ac1c-0be31f2d39a5",
   "metadata": {},
   "outputs": [],
   "source": [
    "# 数据增强\n",
    "def generate_question_summary_pairs(content, summary):\n",
    "    \"\"\"\n",
    "    生成20对提问和总结的配对。\n",
    "\n",
    "    :param content: 内容（例如：“蒙卦”）。\n",
    "    :param summary: 内容的总结。\n",
    "    :return: 包含20对提问和总结的列表。\n",
    "    \"\"\"\n",
    "    # 20钟提问模板\n",
    "    question_templates = [\n",
    "        \"{}代表什么？\",\n",
    "        \"周易中的{}含义是什么？\",\n",
    "        \"请解释一下{}。\",\n",
    "        \"{}在周易中是什么象征？\",\n",
    "        \"周易{}的深层含义是什么？\",\n",
    "        \"{}和教育启蒙有什么联系？\",\n",
    "        \"周易的{}讲述了什么？\",\n",
    "        \"{}是怎样的一个卦象？\",\n",
    "        \"{}在周易中怎样表达教育的概念？\",\n",
    "        \"{}的基本意义是什么？\",\n",
    "        \"周易中{}的解释是什么？\",\n",
    "        \"{}在周易中代表了哪些方面？\",\n",
    "        \"{}涉及哪些哲学思想？\",\n",
    "        \"周易中{}的象征意义是什么？\",\n",
    "        \"{}的主要讲述内容是什么？\",\n",
    "        \"周易{}的核心思想是什么？\",\n",
    "        \"{}和启蒙教育之间有何联系？\",\n",
    "        \"在周易中，{}象征着什么？\",\n",
    "        \"请描述{}的含义。\",\n",
    "        \"{}在周易哲学中扮演什么角色？\"\n",
    "    ]\n",
    "    \n",
    "    # 使用content填充模板\n",
    "    questions = [template.format(content) for template in question_templates]\n",
    "    \n",
    "    # 创建提问和总结对\n",
    "    question_summary_pairs = [(question, summary) for question in questions]\n",
    "    \n",
    "    return question_summary_pairs"
   ]
  },
  {
   "cell_type": "code",
   "execution_count": 42,
   "id": "2727bd78-7652-4b88-9ed9-f71860f450cb",
   "metadata": {},
   "outputs": [],
   "source": [
    "import csv\n",
    "import datetime\n",
    "import os\n",
    "\n",
    "\n",
    "def main():\n",
    "    # 确保 data目录存在\n",
    "    if not os.path.exists('data'):\n",
    "        os.mkdirs('data')\n",
    "        \n",
    "    # 解析 data/raw_data.txt 得到 raw_content_data 列表\n",
    "    raw_content_data = []\n",
    "    with open('data/raw_data.txt', 'r', encoding = 'utf-8') as file:\n",
    "        content = file.read()\n",
    "        data_samples = content.split('\\n\\n')\n",
    "        for sample in data_samples:\n",
    "            cleaned_sample = sample.strip()\n",
    "            if cleaned_sample:\n",
    "                raw_content_data.append(cleaned_sample)\n",
    "                \n",
    "    # 创建带有时间戳的 csv文件名\n",
    "    timestamp = datetime.datetime.now().strftime(\"%Y%m%d_%H%M%S\")\n",
    "    filename = f\"data/zhouyi_dataset_{timestamp}.csv\"\n",
    "    \n",
    "    # 创建csv文件并写入标题行\n",
    "    with open (filename, mode='w', newline='', encoding='utf-8') as file:\n",
    "        writer = csv.writer(file)\n",
    "        writer.writerow(['content','summary'])\n",
    "        \n",
    "        # 循环遍历 raw_content_data 列表\n",
    "        for raw_content in raw_content_data:\n",
    "            # 调用gen_data 方法得到 ai_message_content\n",
    "            ai_message_content = gen_data(raw_content)\n",
    "            \n",
    "            # 调用dataset_parser方法解析ai_message_content 得到content和summary\n",
    "            content, summary = dataset_parser(ai_message_content)\n",
    "            \n",
    "            print(\"Content:\",content)\n",
    "            print(\"Summary:\",summary)\n",
    "            \n",
    "            # 调用 generate_question_summary_pairs 得到20组pairs\n",
    "            pairs = generate_question_summary_pairs(content, summary)\n",
    "            \n",
    "            # 将pairs写入csv文件\n",
    "            for pair in pairs:\n",
    "                writer.writerow(pair)\n",
    "            "
   ]
  },
  {
   "cell_type": "code",
   "execution_count": 43,
   "id": "cfef0b58-dfef-4181-b23c-c1dc940f07ce",
   "metadata": {},
   "outputs": [
    {
     "name": "stdout",
     "output_type": "stream",
     "text": [
      "Content: 蒙卦\n",
      "Summary: 蒙卦在周易中象征着启蒙与迷惑。此卦由下卦坎（水）和上卦艮（山）组成，卦象为山下有泉，象征泉水喷涌而出，但仍有险阻。这一卦象寓意着蒙昧和回还往复，表明智慧未开，蒙昧闭塞，犹豫不决，缺乏果断。在卦辞中提到‘匪我求童蒙，童蒙求我’，表明不是主动去寻求启蒙，而是蒙昧的人主动寻求教化。初筮告，再三渎，渎则不告，意味着初次占筮可以得到启示，但若轻慢不敬地反复占问，则不会得到启示。蒙卦的核心哲学是强调启蒙的重要性，君子应以果敢坚毅的行动来培养自身的品德。在事业上，蒙卦暗示开始时可能混乱无序，但通过勇敢坚毅的行动和接受严格教育，可以扭转局面。在经商和求名方面，蒙卦建议小心谨慎，不得急功近利，应树立高尚的商业道德和接受良好的基础教育。在婚恋方面，蒙卦提醒注意考察对方品德，夫妻需相互宽容、理解。总之，蒙卦教导人们在迷惘困顿中寻求教化，通过果敢坚毅的行动和接受教育，最终达到启蒙和通达的状态。\n",
      "Content: 屯卦\n",
      "Summary: 屯卦是周易中的第二个卦，由下卦震（雷）和上卦坎（水）组成。此卦象征万物初生时的艰难险阻。卦名‘屯’意味着困难，卦辞‘元，亨，利，贞。勿用，有攸往，利建侯’表明初始虽困难，但最终将亨通吉利，有利于建立功业和封侯。象征雷雨交加的环境，君子观此卦应如经纶般有条不紊地治理事务。邵雍认为万物始生困难，但先苦后甜。傅佩荣建议宜守不宜进。传统解卦认为屯卦象征动而逢险，需刚毅果敢。此卦适合解释困境中的坚持与努力，以及在艰难时机的把握。\n",
      "Content: 需卦\n",
      "Summary: 需卦在周易中象征着等待与蓄势。此卦由下卦乾（天）和上卦坎（水）组成，代表云升于天，等待雨水降临的意象。卦辞‘有孚，光亨，贞吉。利涉大川’表明，坚守诚信，亨通顺利，问卦必吉，且利于渡过大河。象传‘云上于天，需；君子以饮食宴乐’说明，君子应如云在天，耐心等待，并在等待中保持宴饮安乐的生活态度。《断易天机》指出需卦为坤宫游魂卦，意味着等待时机成熟，虽前有险阻，但耐心涉过大川则利。邵雍认为需卦象征坎陷当前，应等待时机，急进则凶。傅佩荣则强调时机未成熟时需耐心等待，适用于时机、财运、身体等方面。传统解卦认为需卦下乾上坎，刚逢险阻，宜稳健等待，不可冒进。大象解法以云在天上未雨象喻等待时机，运势上强调待时而行，事业、经商、求名、婚恋等方面均需耐心等待，积累实力，待时机成熟则可成功。决策上建议积蓄力量，谨慎行动，坦然面对困难，时机成熟后则一帆风顺。\n",
      "Content: 讼卦\n",
      "Summary: 讼卦在周易中代表争讼、诉讼的情境。此卦由上卦乾（天）和下卦坎（水）组成，象征天水相违，流向相背，事理乖舛，从而引发争讼。卦辞指出，虽然有利可图，但需警惕戒惧，中期吉利，但最终可能转为凶险。此卦有利于遇见有德行的大人物，但不利于涉越大河。象辞解释为君子应从卦象中汲取教训，在做事谋事之初就要谨慎小心。《断易天机》认为此卦为离宫游魂卦，上乾刚强，下坎险陷，刚险相争必然导致争讼，多有不吉。邵雍解为天高水深，达远不亲，应慎谋退守，敬畏无凶。傅佩荣认为此卦表示时运功名受阻，财运开始谨慎终可获利，家宅宜求淑女，身体需预防胜于治疗。传统解卦指出此卦为异卦相叠，乾为刚健，坎为险陷，刚与险对立，必然产生争讼。运势上事与愿违，宜防陷阱；事业上起初顺利，但继而受挫，需警惕谨慎，避免固执己见，退而让人以求化解；经商上和气生财，吃亏是福，应坚持公正公平互利原则；求名上不利，应坚守纯正，隐忍自励；婚恋上虽不尽人意，但双方理解可处，应以温和方式处理生活；决策上应避免争强好胜，知足适可而止，接受教训，引以为戒。\n",
      "Content: 师卦\n",
      "Summary: 师卦，下坎上坤，象征军队和民众。原文‘贞，丈人吉，无咎’指示在正固的情况下，由德高望重的长者统率，则吉祥无咎。卦象‘地中有水’象征包容与畜养大众。邵雍认为此卦代表忧劳大众，需公正无私，排除万难。傅佩荣指出时运宜包容待时，财运需珍惜已有，家宅有喜事。传统解卦强调兵凶战危，但师出有名可化凶为吉。大象辞描述养兵聚众，出师攻伐，有伤难安。运势上需合作谨慎，事业要密切配合，经商需刚毅灵活，求名要严格要求，婚恋宜慎重专注。决策上应迎难而进，但需老成持重，以中正为要。\n",
      "Content: 比卦\n",
      "Summary: 在周易中，比卦由下坤上坎组成，象征亲近、依附和团结。此卦象为‘地上有水’，寓意水附大地、地纳河海，象征着相互依赖、亲密无间的关系。比卦的核心哲学是强调和谐、信任与互助，认为长期如此将无咎，吉祥。先王观此卦象，取法于水的亲和力，建立万国，亲近诸侯。\n",
      "\n",
      "比卦在《断易天机》中被解读为相亲相依之意，长久如此则无咎，吉祥。邵雍则解为水行地上，象征亲比欢乐，人情亲顺，百事无忧。傅佩荣认为此卦预示众人相贺，荣显之极，财运亨通，家庭和睦，但需注意身体可能的心腹水肿。\n",
      "\n",
      "传统解卦指出，比卦与师卦互为综卦，但寓意相反。它阐述的是相亲相辅、宽宏无私、精诚团结的道理。大象方面，一阳统五阴，象征比邻相亲相辅，和乐之象。在运势上，比卦预示平顺，可得贵人提拔，事宜速战速决。事业方面，顺利能成功，向前发展，得他人帮助。经商需密切合作，真诚交往，遵守信义。求名需个人努力及他人赏识。婚恋方面，预示美好姻缘，相亲相爱。决策上，应心地善良，忠诚厚道，选择朋友需谨慎，结交贤者则终身受益。\n",
      "Content: 坤卦\n",
      "Summary: 坤卦在周易中代表大地，由两个坤卦相叠而成，象征着纯阴之性和顺从。卦辞‘元，亨，利牝马之贞’表明其吉祥亨通，适合雌马般的温顺性情。君子当顺应形势，先经历迷茫后找到依靠，西南方利于交友，东北方则需警惕损失。安贞则吉，强调稳定和厚德载物的重要性。《象辞》以大地承载万物来比喻君子应具备的深厚德行。邵雍强调柔顺静守的重要性，傅佩荣则指出其象征厚道和满载而归的时运。传统解卦认为坤卦代表大地之性，宜顺从天道，以静制动，合作共赢，避免急进和孤立。在事业上需谨言慎行，依赖他人支持；经商应稳健，避免冒险；求名需踏实努力；婚恋中女方柔顺有助于美满姻缘。\n",
      "Content: 乾卦\n",
      "Summary: 乾卦是《易经》六十四卦之首，由六阳爻组成，象征天，代表刚健、旺盛和纯粹阳性。卦辞‘元、亨、利、贞’表示吉祥如意，教导人遵守天道的德行。‘象曰：天行健，君子以自强不息’强调天道刚健运行不息，君子应效法天道，不断自我完善。邵雍认为乾卦象征刚健旺盛，但需谨防过强；傅佩荣则指出临事刚健，自强不息，且施比受有福。传统解卦认为乾卦象征天和龙，代表纯粹阳刚，需行正道方得长久。在运势上，乾卦象征飞龙在天，名利双收，但盛极必衰，需警惕骄傲，保持冷静。事业上象征大吉大利，但需注意谨慎；经商上顺利但有风险，宜把握时机；求名上需克服骄傲，进业修德；婚恋上阳盛阴衰，但刚柔可济；决策上可成就大事，需坚持刚健正直，自强不息。\n"
     ]
    }
   ],
   "source": [
    "main()"
   ]
  },
  {
   "cell_type": "code",
   "execution_count": null,
   "id": "c60837cc-a833-4cd6-9080-d02e95ba9b01",
   "metadata": {},
   "outputs": [],
   "source": []
  }
 ],
 "metadata": {
  "kernelspec": {
   "display_name": "chatglmdemo",
   "language": "python",
   "name": "chatglmdemo"
  },
  "language_info": {
   "codemirror_mode": {
    "name": "ipython",
    "version": 3
   },
   "file_extension": ".py",
   "mimetype": "text/x-python",
   "name": "python",
   "nbconvert_exporter": "python",
   "pygments_lexer": "ipython3",
   "version": "3.10.18"
  }
 },
 "nbformat": 4,
 "nbformat_minor": 5
}
